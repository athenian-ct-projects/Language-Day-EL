{
  "nbformat": 4,
  "nbformat_minor": 0,
  "metadata": {
    "colab": {
      "name": "Ella",
      "provenance": [],
      "collapsed_sections": [],
      "include_colab_link": true
    },
    "kernelspec": {
      "name": "python3",
      "display_name": "Python 3"
    }
  },
  "cells": [
    {
      "cell_type": "markdown",
      "metadata": {
        "id": "view-in-github",
        "colab_type": "text"
      },
      "source": [
        "<a href=\"https://colab.research.google.com/github/athenian-ct-projects/Language-Day-EL/blob/master/Ella.ipynb\" target=\"_parent\"><img src=\"https://colab.research.google.com/assets/colab-badge.svg\" alt=\"Open In Colab\"/></a>"
      ]
    },
    {
      "cell_type": "code",
      "metadata": {
        "id": "abOBlt2ozvSF",
        "colab_type": "code",
        "colab": {}
      },
      "source": [
        "# DO NOT RUN THIS CELL WHILE PLAYING GAME (IT RESETS PROGRESS)\n",
        "# This sets list to nothing at start of game\n",
        "fs=[]\n",
        "\n",
        "# Vowel function:\n",
        "# Checks if the input (that is a noun) starts with a vowel and inserts a or an\n",
        "# depending on what it starts with. It also adds the input to the end of the \n",
        "# list (fs).\n",
        "\n",
        "def vowel():\n",
        "  if x[0] in \"aeiouAEIOU\":\n",
        "    va=(\"an \" + x)\n",
        "  else:\n",
        "    va=(\"a \"+ x)\n",
        "  fs.append(va)"
      ],
      "execution_count": 0,
      "outputs": []
    },
    {
      "cell_type": "code",
      "metadata": {
        "id": "i0-1aHtUNrS9",
        "colab_type": "code",
        "colab": {}
      },
      "source": [
        "# Spanish el/la function\n",
        "# Checks if the input (that is a noun) ends with a, and inserts la or el\n",
        "# depending on what the noun ends with. It also adds the input to the end of the list (fs).\n",
        "\n",
        "def span():\n",
        "  if x.endswith(\"a\"):\n",
        "    vs=(\"la \" + x)\n",
        "  else:\n",
        "    vs=(\"el \" +x)\n",
        "  fs.append(vs)"
      ],
      "execution_count": 0,
      "outputs": []
    },
    {
      "cell_type": "code",
      "metadata": {
        "id": "yOrmi-a1PCJI",
        "colab_type": "code",
        "colab": {}
      },
      "source": [
        "# Spanish los/las function\n",
        "# Checks if the input (that is a plural noun) ends with as, and inserts las or \n",
        "# los depending on what the noun ends with. It also adds the input to the end of the list (fs).\n",
        "\n",
        "def spanp():\n",
        "  if x.endswith(\"as\"):\n",
        "    vs=(\"las \" + x)\n",
        "  else:\n",
        "    vs=(\"los \" +x)\n",
        "  fs.append(vs)"
      ],
      "execution_count": 0,
      "outputs": []
    },
    {
      "cell_type": "code",
      "metadata": {
        "id": "vbuzQvlOlM1b",
        "colab_type": "code",
        "colab": {}
      },
      "source": [
        "# Spanish un/una function\n",
        "# Checks if the input (that is a noun) ends with an a, and inserts una or un\n",
        "# depending on what the noun ends with. It also adds the input to the end of the list (fs).\n",
        "\n",
        "def span1():\n",
        "  if x.endswith(\"a\"):\n",
        "    v1=(\"una \" + x)\n",
        "  else:\n",
        "    v1=(\"un \" +x)\n",
        "  fs.append(v1)"
      ],
      "execution_count": 0,
      "outputs": []
    },
    {
      "cell_type": "code",
      "metadata": {
        "id": "cDfMoSOdeBVl",
        "colab_type": "code",
        "outputId": "130068df-5650-420c-c758-4a823c473109",
        "colab": {
          "base_uri": "https://localhost:8080/",
          "height": 156
        }
      },
      "source": [
        "# Intro/Instructions code:\n",
        "# Code prints the instructions\n",
        "# Input, start, checks if the player has run the first four cells.\n",
        "start=input(\"STOP! Before you start, run the previous four cells before starting.\"\n",
        "\"If you have type ok to start instructions, type help if you haven't: \")\n",
        "if start==(\"ok\"):\n",
        "  print(\"Instrucciones para Mad Libs: \")\n",
        "  print(\"Escribe en el blanco con el parte del discurso: \")\n",
        "  print(\"Ex. Escribe un sustantivo: 'banana'\")\n",
        "  print(\"En elf fín, va a imprimir tu cuenta: \")\n",
        "  print(\"Ex. Snow White estaba envenenada de una banana\")\n",
        "  print(\"At the end your story will printed with your inputs. Also, do not run\"\n",
        "  \" the very first cell while playing. \")\n",
        "elif start==(\"help\"):\n",
        "  print(\"Run the past four cells (10-13). There will be no inputs of prints from \"\n",
        "  \"running these cells. Once you have, restart this cell.\")"
      ],
      "execution_count": 0,
      "outputs": [
        {
          "output_type": "stream",
          "text": [
            "STOP! Before you start, run the previous four cells before starting.If you have type ok to start instructions, type help if you haven't: ok\n",
            "Instrucciones para Mad Libs: \n",
            "Escribe en el blanco con el parte del discurso: \n",
            "Ex. Escribe un sustantivo: 'banana'\n",
            "En elf fín, va a imprimir tu cuenta: \n",
            "Ex. Snow White estaba envenenada de una banana\n",
            "At the end your story will printed with your inputs. Also, do not run the very first cell while playing. \n"
          ],
          "name": "stdout"
        }
      ]
    },
    {
      "cell_type": "code",
      "metadata": {
        "id": "rg-_jnnVxTcK",
        "colab_type": "code",
        "outputId": "037b0417-e4aa-4ed6-c396-98ec3c5bddae",
        "colab": {
          "base_uri": "https://localhost:8080/",
          "height": 51
        }
      },
      "source": [
        "# example: Try one!\n",
        "# Prints an example: prints instructions, then prints an input asking for a noun\n",
        "print(\"¡Ahora prueba uno!\")\n",
        "y=input(\"Escribe un sustantivo: \")"
      ],
      "execution_count": 0,
      "outputs": [
        {
          "output_type": "stream",
          "text": [
            "¡Ahora prueba uno!\n",
            "Escribe un sustantivo: persona\n"
          ],
          "name": "stdout"
        }
      ]
    },
    {
      "cell_type": "code",
      "metadata": {
        "id": "9Tl4SkfLbg0B",
        "colab_type": "code",
        "outputId": "608736d7-75d4-4b04-913b-fa170c3e47d8",
        "colab": {
          "base_uri": "https://localhost:8080/",
          "height": 51
        }
      },
      "source": [
        "# SKIP THIS CELL FOR NOW\n",
        "# Pick a language code: (only have one language done)\n",
        "# Function:\n",
        "  # Input that asks for a language, if the input is english then it will start\n",
        "  # in English, if not it will start in Spanish. If the input is neither then\n",
        "  # it will ask you to try again.\n",
        "def langpick():\n",
        "  lang=input(\"Pick a language: English or Spanish \")\n",
        "  if (lang==\"English\" or lang==\"english\"):\n",
        "    print(\"Ok let's start our story in English.\")\n",
        "  elif (lang==\"Spanish\" or lang==\"spanish\"):\n",
        "    print(\"Ok let's start our story in Spanish.\")\n",
        "  else:\n",
        "    print(\"Try again.\")\n",
        "    langpick()\n",
        "  return(lang)\n",
        "\n",
        "language=langpick()"
      ],
      "execution_count": 0,
      "outputs": [
        {
          "output_type": "stream",
          "text": [
            "Pick a language: English or Spanish spanish\n",
            "Ok let's start our story in Spanish.\n"
          ],
          "name": "stdout"
        }
      ]
    },
    {
      "cell_type": "code",
      "metadata": {
        "id": "Q6PW0ol4gNCD",
        "colab_type": "code",
        "outputId": "4f4037ac-4c58-41ce-92f8-18dc92f060d6",
        "colab": {
          "base_uri": "https://localhost:8080/",
          "height": 34
        }
      },
      "source": [
        "# The following cells (8-19), asks for inputs for the game. Each one asks for\n",
        "# a noun, plural noun, verb, adjective, or emotion. Some will be specific to \n",
        "# feminine or masculine.\n",
        "# 0\n",
        "x=input(\"Excribe un nombre: \")\n",
        "fs.append(x)"
      ],
      "execution_count": 0,
      "outputs": [
        {
          "output_type": "stream",
          "text": [
            "Excribe un nombre: tanvi\n"
          ],
          "name": "stdout"
        }
      ]
    },
    {
      "cell_type": "code",
      "metadata": {
        "id": "QLzZjKeJjbBo",
        "colab_type": "code",
        "outputId": "b2ecd770-36ad-47d5-a94d-c1a1e34b7b2b",
        "colab": {
          "base_uri": "https://localhost:8080/",
          "height": 34
        }
      },
      "source": [
        "#1\n",
        "x=input(\"Excribe un sustantivo: \")\n",
        "span1()"
      ],
      "execution_count": 0,
      "outputs": [
        {
          "output_type": "stream",
          "text": [
            "Excribe un sustantivo: computadora\n"
          ],
          "name": "stdout"
        }
      ]
    },
    {
      "cell_type": "code",
      "metadata": {
        "id": "wDE1muJQKEOX",
        "colab_type": "code",
        "outputId": "7c75ac01-83a8-45fd-e163-682b34a0c0fd",
        "colab": {
          "base_uri": "https://localhost:8080/",
          "height": 34
        }
      },
      "source": [
        "#2\n",
        "x=input(\"Escribe un numero: \")\n",
        "fs.append(x)"
      ],
      "execution_count": 0,
      "outputs": [
        {
          "output_type": "stream",
          "text": [
            "Escribe un numero: tres\n"
          ],
          "name": "stdout"
        }
      ]
    },
    {
      "cell_type": "code",
      "metadata": {
        "id": "4h9Kcv9IKEto",
        "colab_type": "code",
        "outputId": "86a04040-ea47-4366-ae20-4a00cf42e7d0",
        "colab": {
          "base_uri": "https://localhost:8080/",
          "height": 34
        }
      },
      "source": [
        "#3\n",
        "x=input(\"Escribe una adjetiva femenina: \")\n",
        "fs.append(x)"
      ],
      "execution_count": 0,
      "outputs": [
        {
          "output_type": "stream",
          "text": [
            "Escribe una adjetiva femenina: bonita\n"
          ],
          "name": "stdout"
        }
      ]
    },
    {
      "cell_type": "code",
      "metadata": {
        "id": "WHSJN6QjKFEB",
        "colab_type": "code",
        "outputId": "0dba9935-cd71-478c-ce94-7d7a636fc915",
        "colab": {
          "base_uri": "https://localhost:8080/",
          "height": 34
        }
      },
      "source": [
        "#4\n",
        "x=input(\"Escribe dos adjectivas femeninas (ex. linda y bonita): \")\n",
        "fs.append(x)"
      ],
      "execution_count": 0,
      "outputs": [
        {
          "output_type": "stream",
          "text": [
            "Escribe dos adjectivas femeninas (ex. linda y bonita): inteligente y bonita\n"
          ],
          "name": "stdout"
        }
      ]
    },
    {
      "cell_type": "code",
      "metadata": {
        "id": "6WG7jYiDL800",
        "colab_type": "code",
        "outputId": "95bea951-b6ea-4caf-9bef-08aa3438407a",
        "colab": {
          "base_uri": "https://localhost:8080/",
          "height": 34
        }
      },
      "source": [
        "#5\n",
        "x=input(\"Escribe un sunstantivo plural: \")\n",
        "spanp()"
      ],
      "execution_count": 0,
      "outputs": [
        {
          "output_type": "stream",
          "text": [
            "Escribe un sunstantivo plural: fresas\n"
          ],
          "name": "stdout"
        }
      ]
    },
    {
      "cell_type": "code",
      "metadata": {
        "id": "6F_XMcfZL9Ep",
        "colab_type": "code",
        "outputId": "a0494938-328b-4db8-80c4-39d992367d54",
        "colab": {
          "base_uri": "https://localhost:8080/",
          "height": 34
        }
      },
      "source": [
        "#6\n",
        "x=input(\"Escribe un numero: \")\n",
        "fs.append(x)"
      ],
      "execution_count": 0,
      "outputs": [
        {
          "output_type": "stream",
          "text": [
            "Escribe un numero: cinco\n"
          ],
          "name": "stdout"
        }
      ]
    },
    {
      "cell_type": "code",
      "metadata": {
        "id": "U-xb4SgGL9UZ",
        "colab_type": "code",
        "outputId": "b8c0f186-2314-45a9-f9c9-81dbfdfbaa28",
        "colab": {
          "base_uri": "https://localhost:8080/",
          "height": 34
        }
      },
      "source": [
        "#7\n",
        "x=input(\"Escribe una adjetiva femenina: \")\n",
        "fs.append(x)"
      ],
      "execution_count": 0,
      "outputs": [
        {
          "output_type": "stream",
          "text": [
            "Escribe una adjetiva femenina: organizada\n"
          ],
          "name": "stdout"
        }
      ]
    },
    {
      "cell_type": "code",
      "metadata": {
        "id": "kRYMgZa4L9ma",
        "colab_type": "code",
        "outputId": "7d3ba45e-6b5b-4b76-8da4-82dc0c914ce2",
        "colab": {
          "base_uri": "https://localhost:8080/",
          "height": 34
        }
      },
      "source": [
        "#8\n",
        "x=input(\"Escribe un sustantivo: \")\n",
        "fs.append(x)"
      ],
      "execution_count": 0,
      "outputs": [
        {
          "output_type": "stream",
          "text": [
            "Escribe un sustantivo: anillo\n"
          ],
          "name": "stdout"
        }
      ]
    },
    {
      "cell_type": "code",
      "metadata": {
        "id": "92ezCqfQlDaB",
        "colab_type": "code",
        "outputId": "783ef4e5-1d99-4ef6-fd30-a7f6dbe9841d",
        "colab": {
          "base_uri": "https://localhost:8080/",
          "height": 34
        }
      },
      "source": [
        "#9\n",
        "x=input(\"Escribe un adjetivo masculino: \")\n",
        "fs.append(x)"
      ],
      "execution_count": 0,
      "outputs": [
        {
          "output_type": "stream",
          "text": [
            "Escribe un adjetivo masculino: aburrido\n"
          ],
          "name": "stdout"
        }
      ]
    },
    {
      "cell_type": "code",
      "metadata": {
        "id": "DtkmX58mm5g9",
        "colab_type": "code",
        "outputId": "cce5962d-5b1f-4299-c133-5f6558beb4e6",
        "colab": {
          "base_uri": "https://localhost:8080/",
          "height": 34
        }
      },
      "source": [
        "# This cell has two inputs on the end of the list, fs, because it is used twice\n",
        "# in the story with different preceeding words. (The first one only adds the \n",
        "# input. The second one uses the spanish plural function so los or las will \n",
        "# preceed the word.)\n",
        "\n",
        "#10\n",
        "x=input(\"Escribe un sustantivo plural: \")\n",
        "fs.append(x)\n",
        "#11\n",
        "spanp()"
      ],
      "execution_count": 0,
      "outputs": [
        {
          "output_type": "stream",
          "text": [
            "Escribe un sustantivo plural: zapatos\n"
          ],
          "name": "stdout"
        }
      ]
    },
    {
      "cell_type": "code",
      "metadata": {
        "id": "0z9BdmWIp3RN",
        "colab_type": "code",
        "outputId": "4584afbf-0949-4e2d-9f13-1b09033c57f5",
        "colab": {
          "base_uri": "https://localhost:8080/",
          "height": 34
        }
      },
      "source": [
        "#12\n",
        "x=input(\"Escribe un sustantivo: \")\n",
        "span1()\n",
        "#13\n",
        "fs.append(x)"
      ],
      "execution_count": 0,
      "outputs": [
        {
          "output_type": "stream",
          "text": [
            "Escribe un sustantivo: bana\n"
          ],
          "name": "stdout"
        }
      ]
    },
    {
      "cell_type": "code",
      "metadata": {
        "id": "uKCENZfYqF5x",
        "colab_type": "code",
        "outputId": "57fbac9a-762e-4fad-e4ae-9d3a0a624b5a",
        "colab": {
          "base_uri": "https://localhost:8080/",
          "height": 34
        }
      },
      "source": [
        "#14\n",
        "x=input(\"Escribe un sustantivo: \")\n",
        "fs.append(x)"
      ],
      "execution_count": 0,
      "outputs": [
        {
          "output_type": "stream",
          "text": [
            "Escribe un sustantivo: pastel\n"
          ],
          "name": "stdout"
        }
      ]
    },
    {
      "cell_type": "code",
      "metadata": {
        "id": "-gCiHn66qMq7",
        "colab_type": "code",
        "outputId": "b480d0e2-bc0e-480f-fe52-27ab97a22b71",
        "colab": {
          "base_uri": "https://localhost:8080/",
          "height": 34
        }
      },
      "source": [
        "#15\n",
        "x=input(\"Escribe una adjetiva feminina: \")\n",
        "fs.append(x)"
      ],
      "execution_count": 0,
      "outputs": [
        {
          "output_type": "stream",
          "text": [
            "Escribe una adjetiva feminina: linda\n"
          ],
          "name": "stdout"
        }
      ]
    },
    {
      "cell_type": "code",
      "metadata": {
        "id": "0E8Q5fPcikyI",
        "colab_type": "code",
        "outputId": "6774e502-559f-4e50-92ce-7e6e6bdfab22",
        "colab": {
          "base_uri": "https://localhost:8080/",
          "height": 34
        }
      },
      "source": [
        "# This cell checks if the input is a verb. It checks if the input ends with\n",
        "# -ar, -er, or -ir. If it doesn't it will ask you to try it again.\n",
        "\n",
        "#16\n",
        "x=input(\"Escribe un infinitivo: \")\n",
        "while not x.endswith(\"ir\") and x.endswith(\"ar\") and x.endswith(\"er\"):\n",
        "  x=input(\"Trata otra vez. Escribe un infinitivo: \")\n",
        "\n",
        "fs.append(x)"
      ],
      "execution_count": 0,
      "outputs": [
        {
          "output_type": "stream",
          "text": [
            "Escribe un infinitivo: nadar\n"
          ],
          "name": "stdout"
        }
      ]
    },
    {
      "cell_type": "code",
      "metadata": {
        "id": "m1ZIRnuNjJln",
        "colab_type": "code",
        "outputId": "e11bc552-18e7-445f-f5d5-7fe084755c01",
        "colab": {
          "base_uri": "https://localhost:8080/",
          "height": 34
        }
      },
      "source": [
        "#17\n",
        "x=input(\"Escribe una emoción masculino: \")\n",
        "fs.append(x)"
      ],
      "execution_count": 0,
      "outputs": [
        {
          "output_type": "stream",
          "text": [
            "Escribe una emoción masculino: enojado\n"
          ],
          "name": "stdout"
        }
      ]
    },
    {
      "cell_type": "code",
      "metadata": {
        "id": "AYuXxDDyjXKu",
        "colab_type": "code",
        "outputId": "8339e7aa-9164-424d-d43d-c5e065a640a6",
        "colab": {
          "base_uri": "https://localhost:8080/",
          "height": 34
        }
      },
      "source": [
        "#18\n",
        "x=input(\"Escribe un sustantivo plural: \")\n",
        "spanp()"
      ],
      "execution_count": 0,
      "outputs": [
        {
          "output_type": "stream",
          "text": [
            "Escribe un sustantivo plural: piñas\n"
          ],
          "name": "stdout"
        }
      ]
    },
    {
      "cell_type": "code",
      "metadata": {
        "id": "9Rd3w9KNje8g",
        "colab_type": "code",
        "outputId": "981d06ff-19d5-4269-af71-c66883a36344",
        "colab": {
          "base_uri": "https://localhost:8080/",
          "height": 34
        }
      },
      "source": [
        "#19\n",
        "x=input(\"Escribe un sustantivo: \")\n",
        "span1()"
      ],
      "execution_count": 0,
      "outputs": [
        {
          "output_type": "stream",
          "text": [
            "Escribe un sustantivo: telefono\n"
          ],
          "name": "stdout"
        }
      ]
    },
    {
      "cell_type": "code",
      "metadata": {
        "id": "ryeKcvkNens5",
        "colab_type": "code",
        "outputId": "4560de6a-66d2-460f-c582-933923e83b19",
        "colab": {
          "base_uri": "https://localhost:8080/",
          "height": 51
        }
      },
      "source": [
        "# Prints out your inputs from the previous cells.\n",
        "\n",
        "print(\"Here are your inputs: \")\n",
        "for y in fs:\n",
        "  print(y)"
      ],
      "execution_count": 0,
      "outputs": [
        {
          "output_type": "stream",
          "text": [
            "Here are your inputs: \n",
            "tanvi\n"
          ],
          "name": "stdout"
        }
      ]
    },
    {
      "cell_type": "code",
      "metadata": {
        "id": "wOf_cRTTmBmF",
        "colab_type": "code",
        "outputId": "8b41586c-c5a8-43f8-d677-98d347902412",
        "colab": {
          "base_uri": "https://localhost:8080/",
          "height": 54
        }
      },
      "source": [
        "# The next cells (30-39), print out the finished story using the inputs. It uses\n",
        "# each input in the list, fs, by calling fs[number input is in the list].\n",
        "\n",
        "print(\"Había una vez, había una chica se llama \"+fs[0]+\". Su madre se murió\" \n",
        "      \" cuando la chica era muy pequeña. Ella sólo tenía su padre y \"+fs[1]+\n",
        "      \" para compañía. Ahora ella tenía \"+fs[2]+\" hermanastras. Ellas eran\" \n",
        "      \" maliciosas y eran las hijas de la nueva esposa de su padre.\"\n",
        "      \"La \"+fs[3]+\" madrastra de la chica no le gustaba a ella. \"\n",
        "      +fs[0]+\" se convirtió una servidora para las hermanastras.\"\n",
        "      \" Ellas empezaban a llamarla Cenicienta porque ella sentaba en cenizas. \"\n",
        "      +fs[0]+\" era \"+fs[4]+\" y simpática, entonces todos les gustaban a ella \"\n",
        "      \"excepto su hermanastras.\")"
      ],
      "execution_count": 0,
      "outputs": [
        {
          "output_type": "stream",
          "text": [
            "Había una vez, había una chica se llama mishika. Su madre se murió cuando la chica era muy pequeña. Ella sólo tenía su padre y una computadora para compañía. Ahora ella tenía tres hermanastras. Ellas eran maliciosas y eran las hijas de la nueva esposa de su padre.La bonita madrastra de la chica no le gustaba a ella. mishika se convirtió una servidora para las hermanastras. Ellas empezaban a llamarla Cenicienta porque ella sentaba en cenizas. mishika era inteligente y bonita y simpática, entonces todos les gustaban a ella excepto su hermanastras.\n"
          ],
          "name": "stdout"
        }
      ]
    },
    {
      "cell_type": "code",
      "metadata": {
        "id": "jnwDB3c09rRR",
        "colab_type": "code",
        "outputId": "e8bf8e15-6141-4750-af17-eeca98d9707e",
        "colab": {
          "base_uri": "https://localhost:8080/",
          "height": 54
        }
      },
      "source": [
        "print(\"Cuando Cenicienta tenía 17 años, el rey tenía un baile donde \" \n",
        "      +fs[5]+\" y las chicas en la ciudad estaban invitadas. Cenicienta\" \n",
        "      \" empezaron a ella a vestirlas, pero ellas no pudieron permitir a ella si ir al\"\n",
        "      \" baile. Cuando las hermanastras salieron, Cenicienta lloró por \"\n",
        "      +fs[6]+\" horas.\")"
      ],
      "execution_count": 0,
      "outputs": [
        {
          "output_type": "stream",
          "text": [
            "Cuando Cenicienta tenía 17 años, el rey tenía un baile donde las fresas y las chicas en la ciudad estaban invitadas. Cenicienta empezaron a ella a vestirlas, pero ellas no pudieron permitir a ella si ir al baile. Cuando las hermanastras salieron, Cenicienta lloró por cinco horas.\n"
          ],
          "name": "stdout"
        }
      ]
    },
    {
      "cell_type": "code",
      "metadata": {
        "id": "Av_xjru-AtXt",
        "colab_type": "code",
        "outputId": "5b5e2d7c-2ddf-4b71-f0cf-4d8440250acb",
        "colab": {
          "base_uri": "https://localhost:8080/",
          "height": 54
        }
      },
      "source": [
        "print(\"Pero una misteriosa y \"+fs[7]+\" voz llamó a Cenicienta. ¡Era su hada madrina! \"\n",
        "      \"Ella dijo a Cenicienta, 'No llores no más \" +fs[0]+ \". Vas a ir al baile \"\n",
        "      \"porque eres \" +fs[4]+ \". Trae una calabaza a mi.' Ella la trató y su \"\n",
        "      \"hada madrina la tocó con su \"+fs[8]+\".\")"
      ],
      "execution_count": 0,
      "outputs": [
        {
          "output_type": "stream",
          "text": [
            "Pero una misteriosa y organizada voz llamó a Cenicienta. ¡Era su hada madrina! Ella dijo a Cenicienta, 'No llores no más mishika. Vas a ir al baile porque eres inteligente y bonita. Trae una calabaza a mi.' Ella la trató y su hada madrina la tocó con su anillo.\n"
          ],
          "name": "stdout"
        }
      ]
    },
    {
      "cell_type": "code",
      "metadata": {
        "id": "WBMBmLVYEhr4",
        "colab_type": "code",
        "outputId": "3e98c96b-7c47-47bc-aabb-3011853c011e",
        "colab": {
          "base_uri": "https://localhost:8080/",
          "height": 54
        }
      },
      "source": [
        "print(\"La calabaza transformó en un \"+fs[9]+\" coche. La hada madrina pidió \"\n",
        "      +fs[10]+\" y Cenicienta obedeció. También \" \n",
        "      +fs[11]+\" transformaron en lacayos. Ahora la hada madrina tocó la ropa \"\n",
        "      \"de la chica y transformó en \"+fs[12]+\".\")"
      ],
      "execution_count": 0,
      "outputs": [
        {
          "output_type": "stream",
          "text": [
            "La calabaza transformó en un aburrido coche. La hada madrina pidió zapatos y Cenicienta obedeció. También los zapatos transformaron en lacayos. Ahora la hada madrina tocó la ropa de la chica y transformó en una bana.\n"
          ],
          "name": "stdout"
        }
      ]
    },
    {
      "cell_type": "code",
      "metadata": {
        "id": "SAOAnfJhHHuQ",
        "colab_type": "code",
        "outputId": "18f4e46a-c12f-4d31-f2a9-5b1953550179",
        "colab": {
          "base_uri": "https://localhost:8080/",
          "height": 54
        }
      },
      "source": [
        "print(\"Cenicienta tenía zapatos de \"+fs[14]+\" y se miró muy linda. “Ahora puedes \"\n",
        "      \"ir al baile,' la hada madrina dijo, 'pero necesitas salir antes de \"\n",
        "      \"medianoche. A la medianoche, tu \"+fs[12]+\" va a transformó en harapos.\"\n",
        "      \" Cenicienta dijo gracias y salió. Cuando llegó al castillo, todos\"\n",
        "      \" miraban a ella y el príncipe le pedí que bailar consigo.\")"
      ],
      "execution_count": 0,
      "outputs": [
        {
          "output_type": "stream",
          "text": [
            "Cenicienta tenía zapatos de pastel y se miró muy linda. “Ahora puedes ir al baile,' la hada madrina dijo, 'pero necesitas salir antes de medianoche. A la medianoche, tu una bana va a transformó en harapos. Cenicienta dijo gracias y salió. Cuando llegó al castillo, todos miraban a ella y el príncipe le pedí que bailar consigo.\n"
          ],
          "name": "stdout"
        }
      ]
    },
    {
      "cell_type": "code",
      "metadata": {
        "id": "hSdXFM0EIb2V",
        "colab_type": "code",
        "outputId": "8c7a316c-15bd-4bf7-8957-11dbf068855a",
        "colab": {
          "base_uri": "https://localhost:8080/",
          "height": 54
        }
      },
      "source": [
        "print(\"Cuando sus hermanastras llegaron a la casa donde Cenicienta estaba, \"\n",
        "\"ellas hablaban de una princesa elegante y \"+fs[15]+\". El príncipe quería hablar \"\n",
        "\"con la princesa otra vez y tenía otro baile. Las hermanastras de Cenicienta \"\n",
        "\"salieron para el baile y su hada madrina apareció otra vez con el coche, \"\n",
        "\"lacayos, \"+fs[13]+\", y zapatos.\")"
      ],
      "execution_count": 0,
      "outputs": [
        {
          "output_type": "stream",
          "text": [
            "Cuando sus hermanastras llegaron a la casa donde Cenicienta estaba, ellas hablaban de una princesa elegante y linda. El príncipe quería hablar con la princesa otra vez y tenía otro baile. Las hermanastras de Cenicienta salieron para el baile y su hada madrina apareció otra vez con el coche, lacayos, bana, y zapatos.\n"
          ],
          "name": "stdout"
        }
      ]
    },
    {
      "cell_type": "code",
      "metadata": {
        "id": "HC9amL2KoK13",
        "colab_type": "code",
        "outputId": "1f66c385-0fb8-4ed7-b67d-e7f0fb54c342",
        "colab": {
          "base_uri": "https://localhost:8080/",
          "height": 54
        }
      },
      "source": [
        "print(\"Otra vez ella bailaba con el príncipe y salió antes de la medianoche. \"\n",
        "\"Otra vez el príncipe quería bailar y \"+fs[16]+\" con la princesa, entonces tenía \"\n",
        "\"otro baile.\")"
      ],
      "execution_count": 0,
      "outputs": [
        {
          "output_type": "stream",
          "text": [
            "Otra vez ella bailaba con el príncipe y salió antes de la medianoche. Otra vez el príncipe quería bailar y nadar con la princesa, entonces tenía otro baile.\n"
          ],
          "name": "stdout"
        }
      ]
    },
    {
      "cell_type": "code",
      "metadata": {
        "id": "02NOWgprpBK6",
        "colab_type": "code",
        "outputId": "20dccf75-f0f3-41f6-c57a-eb822e234f6f",
        "colab": {
          "base_uri": "https://localhost:8080/",
          "height": 34
        }
      },
      "source": [
        "print(\"Este tiempo, el príncipe no la dejaría, pero al doce menos cinco, \"\n",
        "\"ella corrió y dejó un zapato. El príncipe fue \"+fs[17]+\" y sorprendido.\")\n"
      ],
      "execution_count": 0,
      "outputs": [
        {
          "output_type": "stream",
          "text": [
            "Este tiempo, el príncipe no la dejaría, pero al doce menos cinco, ella corrió y dejó un zapato. El príncipe fue enojado y sorprendido.\n"
          ],
          "name": "stdout"
        }
      ]
    },
    {
      "cell_type": "code",
      "metadata": {
        "id": "cSwAsQzIpbLK",
        "colab_type": "code",
        "outputId": "77e981f1-4af6-4d6f-f494-361fecf55469",
        "colab": {
          "base_uri": "https://localhost:8080/",
          "height": 34
        }
      },
      "source": [
        "print(\"Él buscó ella todo el próximo día y quería casar ella. Todas \"\n",
        "+fs[18]+\" y las mujeres trataban de llevar el zapato.\")"
      ],
      "execution_count": 0,
      "outputs": [
        {
          "output_type": "stream",
          "text": [
            "Él buscó ella todo el próximo día y quería casar ella. Todas las piñas y las mujeres trataban de llevar el zapato.\n"
          ],
          "name": "stdout"
        }
      ]
    },
    {
      "cell_type": "code",
      "metadata": {
        "id": "gJ3S9H3Ppub5",
        "colab_type": "code",
        "outputId": "bdabced8-0e04-4d90-e977-dccdeb92f387",
        "colab": {
          "base_uri": "https://localhost:8080/",
          "height": 54
        }
      },
      "source": [
        "print(\"Cuando Cenicienta llevó el zapato, sus hermanastras se rían a ella, \"\n",
        "\"pero lo cupe Cenicienta. Ella sacó el otro zapato y \"+fs[19]+\". Ellos \"\n",
        "\"casaron y vivieron felices para siempre.\")"
      ],
      "execution_count": 0,
      "outputs": [
        {
          "output_type": "stream",
          "text": [
            "Cuando Cenicienta llevó el zapato, sus hermanastras se rían a ella, pero lo cupe Cenicienta. Ella sacó el otro zapato y un telefono. Ellos casaron y vivieron felices para siempre.\n"
          ],
          "name": "stdout"
        }
      ]
    },
    {
      "cell_type": "code",
      "metadata": {
        "id": "SWCL3MsNmOpj",
        "colab_type": "code",
        "outputId": "1fdae140-0382-4596-b2fc-0d6c580879dd",
        "colab": {
          "base_uri": "https://localhost:8080/",
          "height": 34
        }
      },
      "source": [
        "print(\"Thanks for playing!\")"
      ],
      "execution_count": 0,
      "outputs": [
        {
          "output_type": "stream",
          "text": [
            "Thanks for playing!\n"
          ],
          "name": "stdout"
        }
      ]
    }
  ]
}